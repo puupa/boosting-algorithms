{
    "cells": [
        {
            "cell_type": "markdown",
            "metadata": {},
            "source": [
                "# Explore here"
            ]
        },
        {
            "cell_type": "code",
            "execution_count": 1,
            "metadata": {},
            "outputs": [
                {
                    "name": "stdout",
                    "output_type": "stream",
                    "text": [
                        "     Pregnancies  Glucose  BloodPressure  SkinThickness  Insulin   BMI  \\\n",
                        "0              6      148             72             35        0  33.6   \n",
                        "1              1       85             66             29        0  26.6   \n",
                        "2              8      183             64              0        0  23.3   \n",
                        "3              1       89             66             23       94  28.1   \n",
                        "4              0      137             40             35      168  43.1   \n",
                        "..           ...      ...            ...            ...      ...   ...   \n",
                        "763           10      101             76             48      180  32.9   \n",
                        "764            2      122             70             27        0  36.8   \n",
                        "765            5      121             72             23      112  26.2   \n",
                        "766            1      126             60              0        0  30.1   \n",
                        "767            1       93             70             31        0  30.4   \n",
                        "\n",
                        "     DiabetesPedigreeFunction  Age  Outcome  \n",
                        "0                       0.627   50        1  \n",
                        "1                       0.351   31        0  \n",
                        "2                       0.672   32        1  \n",
                        "3                       0.167   21        0  \n",
                        "4                       2.288   33        1  \n",
                        "..                        ...  ...      ...  \n",
                        "763                     0.171   63        0  \n",
                        "764                     0.340   27        0  \n",
                        "765                     0.245   30        0  \n",
                        "766                     0.349   47        1  \n",
                        "767                     0.315   23        0  \n",
                        "\n",
                        "[768 rows x 9 columns]\n"
                    ]
                }
            ],
            "source": [
                "from sklearn.model_selection import train_test_split\n",
                "import pandas as pd\n",
                "import pickle\n",
                "\n",
                "# Specify the file path\n",
                "file_path = '../data/processed/clean_df.pkl'\n",
                "\n",
                "# Read the pickle file into a DataFrame\n",
                "df = pd.read_pickle(file_path)\n",
                "\n",
                "# Display the DataFrame\n",
                "print(df)\n"
            ]
        },
        {
            "cell_type": "code",
            "execution_count": 2,
            "metadata": {},
            "outputs": [],
            "source": [
                "X = df.drop('Outcome', axis=1)\n",
                "y = df['Outcome']\n",
                "\n",
                "# Split the data into training and testing sets\n",
                "X_train, X_test, y_train, y_test = train_test_split(X, y, test_size=0.2, random_state=69)\n"
            ]
        },
        {
            "cell_type": "code",
            "execution_count": 3,
            "metadata": {},
            "outputs": [
                {
                    "data": {
                        "text/plain": [
                            "0.7532467532467533"
                        ]
                    },
                    "execution_count": 3,
                    "metadata": {},
                    "output_type": "execute_result"
                }
            ],
            "source": [
                "from sklearn.ensemble import GradientBoostingClassifier\n",
                "from sklearn.metrics import accuracy_score\n",
                "\n",
                "model = GradientBoostingClassifier()\n",
                "model.fit(X_train, y_train)\n",
                "\n",
                "y_pred = model.predict(X_test)\n",
                "accuracy_score(y_pred, y_test)"
            ]
        },
        {
            "cell_type": "code",
            "execution_count": 4,
            "metadata": {},
            "outputs": [],
            "source": [
                "with open('../models/model_GradientBoostingClassifier_default_69.pkl', 'wb') as file:\n",
                "    pickle.dump(model, file)"
            ]
        },
        {
            "cell_type": "code",
            "execution_count": 5,
            "metadata": {},
            "outputs": [
                {
                    "data": {
                        "text/plain": [
                            "0.7337662337662337"
                        ]
                    },
                    "execution_count": 5,
                    "metadata": {},
                    "output_type": "execute_result"
                }
            ],
            "source": [
                "from xgboost import XGBClassifier\n",
                "\n",
                "model = XGBClassifier()\n",
                "model.fit(X_train, y_train)\n",
                "\n",
                "y_pred = model.predict(X_test)\n",
                "accuracy_score(y_pred, y_test)"
            ]
        },
        {
            "cell_type": "code",
            "execution_count": 6,
            "metadata": {},
            "outputs": [],
            "source": [
                "with open('../models/model_XGBClassifier.pkl_default_69', 'wb') as file:\n",
                "    pickle.dump(model, file)"
            ]
        }
    ],
    "metadata": {
        "kernelspec": {
            "display_name": "Python 3.8.13 64-bit ('3.8.13')",
            "language": "python",
            "name": "python3"
        },
        "language_info": {
            "codemirror_mode": {
                "name": "ipython",
                "version": 3
            },
            "file_extension": ".py",
            "mimetype": "text/x-python",
            "name": "python",
            "nbconvert_exporter": "python",
            "pygments_lexer": "ipython3",
            "version": "3.11.5"
        },
        "orig_nbformat": 4,
        "vscode": {
            "interpreter": {
                "hash": "110cc1dee26208153f2972f08a2ad52b6a56238dc66d48e87fb757ef2996db56"
            }
        }
    },
    "nbformat": 4,
    "nbformat_minor": 2
}
